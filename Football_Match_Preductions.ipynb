{
  "nbformat": 4,
  "nbformat_minor": 0,
  "metadata": {
    "colab": {
      "provenance": []
    },
    "kernelspec": {
      "name": "python3",
      "display_name": "Python 3"
    },
    "language_info": {
      "name": "python"
    }
  },
  "cells": [
    {
      "cell_type": "markdown",
      "source": [
        "## IMPORTING LIBRARIES"
      ],
      "metadata": {
        "id": "onzM7OE2Ryel"
      }
    },
    {
      "cell_type": "code",
      "source": [
        "import pandas as pd\n",
        "import numpy as np\n",
        "import matplotlib.pyplot as plt\n",
        "import seaborn as sns\n",
        "from sklearn.preprocessing import LabelEncoder\n"
      ],
      "metadata": {
        "id": "LUSHOZYGR5OU"
      },
      "execution_count": null,
      "outputs": []
    },
    {
      "cell_type": "markdown",
      "source": [
        "## Load the Dataset"
      ],
      "metadata": {
        "id": "wixztCfwR8ai"
      }
    },
    {
      "cell_type": "code",
      "source": [
        "df = pd.read_csv('premier_league.csv')\n",
        "df.head()"
      ],
      "metadata": {
        "colab": {
          "base_uri": "https://localhost:8080/",
          "height": 313
        },
        "id": "Jx6lFmHKR97n",
        "outputId": "61a237ee-8d5e-434a-8ca6-c31d1a2e042d"
      },
      "execution_count": null,
      "outputs": [
        {
          "output_type": "execute_result",
          "data": {
            "text/plain": [
              "                   date  matchday      home_team   away_team  \\\n",
              "0  2023-08-11T19:00:00Z         1        Burnley    Man City   \n",
              "1  2023-08-12T12:00:00Z         1        Arsenal  Nottingham   \n",
              "2  2023-08-12T14:00:00Z         1    Bournemouth    West Ham   \n",
              "3  2023-08-12T14:00:00Z         1  Brighton Hove  Luton Town   \n",
              "4  2023-08-12T14:00:00Z         1        Everton      Fulham   \n",
              "\n",
              "   home_score_full_time  away_score_full_time  home_score_half_time  \\\n",
              "0                     0                     3                     0   \n",
              "1                     2                     1                     2   \n",
              "2                     1                     1                     0   \n",
              "3                     4                     1                     1   \n",
              "4                     0                     1                     0   \n",
              "\n",
              "   away_score_half_time  goal_diff         winner      defeat             ref  \n",
              "0                     2          3       Man City     Burnley    Craig Pawson  \n",
              "1                     0          1        Arsenal  Nottingham  Michael Oliver  \n",
              "2                     0          0           DRAW        DRAW    Peter Bankes  \n",
              "3                     0          3  Brighton Hove  Luton Town     David Coote  \n",
              "4                     0          1         Fulham     Everton  Stuart Attwell  "
            ],
            "text/html": [
              "\n",
              "  <div id=\"df-de6b56ec-1191-449f-bf3c-c4890a11eb2a\" class=\"colab-df-container\">\n",
              "    <div>\n",
              "<style scoped>\n",
              "    .dataframe tbody tr th:only-of-type {\n",
              "        vertical-align: middle;\n",
              "    }\n",
              "\n",
              "    .dataframe tbody tr th {\n",
              "        vertical-align: top;\n",
              "    }\n",
              "\n",
              "    .dataframe thead th {\n",
              "        text-align: right;\n",
              "    }\n",
              "</style>\n",
              "<table border=\"1\" class=\"dataframe\">\n",
              "  <thead>\n",
              "    <tr style=\"text-align: right;\">\n",
              "      <th></th>\n",
              "      <th>date</th>\n",
              "      <th>matchday</th>\n",
              "      <th>home_team</th>\n",
              "      <th>away_team</th>\n",
              "      <th>home_score_full_time</th>\n",
              "      <th>away_score_full_time</th>\n",
              "      <th>home_score_half_time</th>\n",
              "      <th>away_score_half_time</th>\n",
              "      <th>goal_diff</th>\n",
              "      <th>winner</th>\n",
              "      <th>defeat</th>\n",
              "      <th>ref</th>\n",
              "    </tr>\n",
              "  </thead>\n",
              "  <tbody>\n",
              "    <tr>\n",
              "      <th>0</th>\n",
              "      <td>2023-08-11T19:00:00Z</td>\n",
              "      <td>1</td>\n",
              "      <td>Burnley</td>\n",
              "      <td>Man City</td>\n",
              "      <td>0</td>\n",
              "      <td>3</td>\n",
              "      <td>0</td>\n",
              "      <td>2</td>\n",
              "      <td>3</td>\n",
              "      <td>Man City</td>\n",
              "      <td>Burnley</td>\n",
              "      <td>Craig Pawson</td>\n",
              "    </tr>\n",
              "    <tr>\n",
              "      <th>1</th>\n",
              "      <td>2023-08-12T12:00:00Z</td>\n",
              "      <td>1</td>\n",
              "      <td>Arsenal</td>\n",
              "      <td>Nottingham</td>\n",
              "      <td>2</td>\n",
              "      <td>1</td>\n",
              "      <td>2</td>\n",
              "      <td>0</td>\n",
              "      <td>1</td>\n",
              "      <td>Arsenal</td>\n",
              "      <td>Nottingham</td>\n",
              "      <td>Michael Oliver</td>\n",
              "    </tr>\n",
              "    <tr>\n",
              "      <th>2</th>\n",
              "      <td>2023-08-12T14:00:00Z</td>\n",
              "      <td>1</td>\n",
              "      <td>Bournemouth</td>\n",
              "      <td>West Ham</td>\n",
              "      <td>1</td>\n",
              "      <td>1</td>\n",
              "      <td>0</td>\n",
              "      <td>0</td>\n",
              "      <td>0</td>\n",
              "      <td>DRAW</td>\n",
              "      <td>DRAW</td>\n",
              "      <td>Peter Bankes</td>\n",
              "    </tr>\n",
              "    <tr>\n",
              "      <th>3</th>\n",
              "      <td>2023-08-12T14:00:00Z</td>\n",
              "      <td>1</td>\n",
              "      <td>Brighton Hove</td>\n",
              "      <td>Luton Town</td>\n",
              "      <td>4</td>\n",
              "      <td>1</td>\n",
              "      <td>1</td>\n",
              "      <td>0</td>\n",
              "      <td>3</td>\n",
              "      <td>Brighton Hove</td>\n",
              "      <td>Luton Town</td>\n",
              "      <td>David Coote</td>\n",
              "    </tr>\n",
              "    <tr>\n",
              "      <th>4</th>\n",
              "      <td>2023-08-12T14:00:00Z</td>\n",
              "      <td>1</td>\n",
              "      <td>Everton</td>\n",
              "      <td>Fulham</td>\n",
              "      <td>0</td>\n",
              "      <td>1</td>\n",
              "      <td>0</td>\n",
              "      <td>0</td>\n",
              "      <td>1</td>\n",
              "      <td>Fulham</td>\n",
              "      <td>Everton</td>\n",
              "      <td>Stuart Attwell</td>\n",
              "    </tr>\n",
              "  </tbody>\n",
              "</table>\n",
              "</div>\n",
              "    <div class=\"colab-df-buttons\">\n",
              "\n",
              "  <div class=\"colab-df-container\">\n",
              "    <button class=\"colab-df-convert\" onclick=\"convertToInteractive('df-de6b56ec-1191-449f-bf3c-c4890a11eb2a')\"\n",
              "            title=\"Convert this dataframe to an interactive table.\"\n",
              "            style=\"display:none;\">\n",
              "\n",
              "  <svg xmlns=\"http://www.w3.org/2000/svg\" height=\"24px\" viewBox=\"0 -960 960 960\">\n",
              "    <path d=\"M120-120v-720h720v720H120Zm60-500h600v-160H180v160Zm220 220h160v-160H400v160Zm0 220h160v-160H400v160ZM180-400h160v-160H180v160Zm440 0h160v-160H620v160ZM180-180h160v-160H180v160Zm440 0h160v-160H620v160Z\"/>\n",
              "  </svg>\n",
              "    </button>\n",
              "\n",
              "  <style>\n",
              "    .colab-df-container {\n",
              "      display:flex;\n",
              "      gap: 12px;\n",
              "    }\n",
              "\n",
              "    .colab-df-convert {\n",
              "      background-color: #E8F0FE;\n",
              "      border: none;\n",
              "      border-radius: 50%;\n",
              "      cursor: pointer;\n",
              "      display: none;\n",
              "      fill: #1967D2;\n",
              "      height: 32px;\n",
              "      padding: 0 0 0 0;\n",
              "      width: 32px;\n",
              "    }\n",
              "\n",
              "    .colab-df-convert:hover {\n",
              "      background-color: #E2EBFA;\n",
              "      box-shadow: 0px 1px 2px rgba(60, 64, 67, 0.3), 0px 1px 3px 1px rgba(60, 64, 67, 0.15);\n",
              "      fill: #174EA6;\n",
              "    }\n",
              "\n",
              "    .colab-df-buttons div {\n",
              "      margin-bottom: 4px;\n",
              "    }\n",
              "\n",
              "    [theme=dark] .colab-df-convert {\n",
              "      background-color: #3B4455;\n",
              "      fill: #D2E3FC;\n",
              "    }\n",
              "\n",
              "    [theme=dark] .colab-df-convert:hover {\n",
              "      background-color: #434B5C;\n",
              "      box-shadow: 0px 1px 3px 1px rgba(0, 0, 0, 0.15);\n",
              "      filter: drop-shadow(0px 1px 2px rgba(0, 0, 0, 0.3));\n",
              "      fill: #FFFFFF;\n",
              "    }\n",
              "  </style>\n",
              "\n",
              "    <script>\n",
              "      const buttonEl =\n",
              "        document.querySelector('#df-de6b56ec-1191-449f-bf3c-c4890a11eb2a button.colab-df-convert');\n",
              "      buttonEl.style.display =\n",
              "        google.colab.kernel.accessAllowed ? 'block' : 'none';\n",
              "\n",
              "      async function convertToInteractive(key) {\n",
              "        const element = document.querySelector('#df-de6b56ec-1191-449f-bf3c-c4890a11eb2a');\n",
              "        const dataTable =\n",
              "          await google.colab.kernel.invokeFunction('convertToInteractive',\n",
              "                                                    [key], {});\n",
              "        if (!dataTable) return;\n",
              "\n",
              "        const docLinkHtml = 'Like what you see? Visit the ' +\n",
              "          '<a target=\"_blank\" href=https://colab.research.google.com/notebooks/data_table.ipynb>data table notebook</a>'\n",
              "          + ' to learn more about interactive tables.';\n",
              "        element.innerHTML = '';\n",
              "        dataTable['output_type'] = 'display_data';\n",
              "        await google.colab.output.renderOutput(dataTable, element);\n",
              "        const docLink = document.createElement('div');\n",
              "        docLink.innerHTML = docLinkHtml;\n",
              "        element.appendChild(docLink);\n",
              "      }\n",
              "    </script>\n",
              "  </div>\n",
              "\n",
              "\n",
              "    <div id=\"df-6426e8d5-ac14-4136-913e-7ff89b2c5f6a\">\n",
              "      <button class=\"colab-df-quickchart\" onclick=\"quickchart('df-6426e8d5-ac14-4136-913e-7ff89b2c5f6a')\"\n",
              "                title=\"Suggest charts\"\n",
              "                style=\"display:none;\">\n",
              "\n",
              "<svg xmlns=\"http://www.w3.org/2000/svg\" height=\"24px\"viewBox=\"0 0 24 24\"\n",
              "     width=\"24px\">\n",
              "    <g>\n",
              "        <path d=\"M19 3H5c-1.1 0-2 .9-2 2v14c0 1.1.9 2 2 2h14c1.1 0 2-.9 2-2V5c0-1.1-.9-2-2-2zM9 17H7v-7h2v7zm4 0h-2V7h2v10zm4 0h-2v-4h2v4z\"/>\n",
              "    </g>\n",
              "</svg>\n",
              "      </button>\n",
              "\n",
              "<style>\n",
              "  .colab-df-quickchart {\n",
              "      --bg-color: #E8F0FE;\n",
              "      --fill-color: #1967D2;\n",
              "      --hover-bg-color: #E2EBFA;\n",
              "      --hover-fill-color: #174EA6;\n",
              "      --disabled-fill-color: #AAA;\n",
              "      --disabled-bg-color: #DDD;\n",
              "  }\n",
              "\n",
              "  [theme=dark] .colab-df-quickchart {\n",
              "      --bg-color: #3B4455;\n",
              "      --fill-color: #D2E3FC;\n",
              "      --hover-bg-color: #434B5C;\n",
              "      --hover-fill-color: #FFFFFF;\n",
              "      --disabled-bg-color: #3B4455;\n",
              "      --disabled-fill-color: #666;\n",
              "  }\n",
              "\n",
              "  .colab-df-quickchart {\n",
              "    background-color: var(--bg-color);\n",
              "    border: none;\n",
              "    border-radius: 50%;\n",
              "    cursor: pointer;\n",
              "    display: none;\n",
              "    fill: var(--fill-color);\n",
              "    height: 32px;\n",
              "    padding: 0;\n",
              "    width: 32px;\n",
              "  }\n",
              "\n",
              "  .colab-df-quickchart:hover {\n",
              "    background-color: var(--hover-bg-color);\n",
              "    box-shadow: 0 1px 2px rgba(60, 64, 67, 0.3), 0 1px 3px 1px rgba(60, 64, 67, 0.15);\n",
              "    fill: var(--button-hover-fill-color);\n",
              "  }\n",
              "\n",
              "  .colab-df-quickchart-complete:disabled,\n",
              "  .colab-df-quickchart-complete:disabled:hover {\n",
              "    background-color: var(--disabled-bg-color);\n",
              "    fill: var(--disabled-fill-color);\n",
              "    box-shadow: none;\n",
              "  }\n",
              "\n",
              "  .colab-df-spinner {\n",
              "    border: 2px solid var(--fill-color);\n",
              "    border-color: transparent;\n",
              "    border-bottom-color: var(--fill-color);\n",
              "    animation:\n",
              "      spin 1s steps(1) infinite;\n",
              "  }\n",
              "\n",
              "  @keyframes spin {\n",
              "    0% {\n",
              "      border-color: transparent;\n",
              "      border-bottom-color: var(--fill-color);\n",
              "      border-left-color: var(--fill-color);\n",
              "    }\n",
              "    20% {\n",
              "      border-color: transparent;\n",
              "      border-left-color: var(--fill-color);\n",
              "      border-top-color: var(--fill-color);\n",
              "    }\n",
              "    30% {\n",
              "      border-color: transparent;\n",
              "      border-left-color: var(--fill-color);\n",
              "      border-top-color: var(--fill-color);\n",
              "      border-right-color: var(--fill-color);\n",
              "    }\n",
              "    40% {\n",
              "      border-color: transparent;\n",
              "      border-right-color: var(--fill-color);\n",
              "      border-top-color: var(--fill-color);\n",
              "    }\n",
              "    60% {\n",
              "      border-color: transparent;\n",
              "      border-right-color: var(--fill-color);\n",
              "    }\n",
              "    80% {\n",
              "      border-color: transparent;\n",
              "      border-right-color: var(--fill-color);\n",
              "      border-bottom-color: var(--fill-color);\n",
              "    }\n",
              "    90% {\n",
              "      border-color: transparent;\n",
              "      border-bottom-color: var(--fill-color);\n",
              "    }\n",
              "  }\n",
              "</style>\n",
              "\n",
              "      <script>\n",
              "        async function quickchart(key) {\n",
              "          const quickchartButtonEl =\n",
              "            document.querySelector('#' + key + ' button');\n",
              "          quickchartButtonEl.disabled = true;  // To prevent multiple clicks.\n",
              "          quickchartButtonEl.classList.add('colab-df-spinner');\n",
              "          try {\n",
              "            const charts = await google.colab.kernel.invokeFunction(\n",
              "                'suggestCharts', [key], {});\n",
              "          } catch (error) {\n",
              "            console.error('Error during call to suggestCharts:', error);\n",
              "          }\n",
              "          quickchartButtonEl.classList.remove('colab-df-spinner');\n",
              "          quickchartButtonEl.classList.add('colab-df-quickchart-complete');\n",
              "        }\n",
              "        (() => {\n",
              "          let quickchartButtonEl =\n",
              "            document.querySelector('#df-6426e8d5-ac14-4136-913e-7ff89b2c5f6a button');\n",
              "          quickchartButtonEl.style.display =\n",
              "            google.colab.kernel.accessAllowed ? 'block' : 'none';\n",
              "        })();\n",
              "      </script>\n",
              "    </div>\n",
              "\n",
              "    </div>\n",
              "  </div>\n"
            ],
            "application/vnd.google.colaboratory.intrinsic+json": {
              "type": "dataframe",
              "variable_name": "df",
              "summary": "{\n  \"name\": \"df\",\n  \"rows\": 380,\n  \"fields\": [\n    {\n      \"column\": \"date\",\n      \"properties\": {\n        \"dtype\": \"object\",\n        \"num_unique_values\": 235,\n        \"samples\": [\n          \"2023-11-11T17:30:00Z\",\n          \"2024-04-21T15:30:00Z\",\n          \"2024-03-30T17:30:00Z\"\n        ],\n        \"semantic_type\": \"\",\n        \"description\": \"\"\n      }\n    },\n    {\n      \"column\": \"matchday\",\n      \"properties\": {\n        \"dtype\": \"number\",\n        \"std\": 10,\n        \"min\": 1,\n        \"max\": 38,\n        \"num_unique_values\": 38,\n        \"samples\": [\n          34,\n          37,\n          5\n        ],\n        \"semantic_type\": \"\",\n        \"description\": \"\"\n      }\n    },\n    {\n      \"column\": \"home_team\",\n      \"properties\": {\n        \"dtype\": \"category\",\n        \"num_unique_values\": 20,\n        \"samples\": [\n          \"Burnley\",\n          \"West Ham\",\n          \"Man City\"\n        ],\n        \"semantic_type\": \"\",\n        \"description\": \"\"\n      }\n    },\n    {\n      \"column\": \"away_team\",\n      \"properties\": {\n        \"dtype\": \"category\",\n        \"num_unique_values\": 20,\n        \"samples\": [\n          \"Man City\",\n          \"Chelsea\",\n          \"Newcastle\"\n        ],\n        \"semantic_type\": \"\",\n        \"description\": \"\"\n      }\n    },\n    {\n      \"column\": \"home_score_full_time\",\n      \"properties\": {\n        \"dtype\": \"number\",\n        \"std\": 1,\n        \"min\": 0,\n        \"max\": 6,\n        \"num_unique_values\": 7,\n        \"samples\": [\n          0,\n          2,\n          3\n        ],\n        \"semantic_type\": \"\",\n        \"description\": \"\"\n      }\n    },\n    {\n      \"column\": \"away_score_full_time\",\n      \"properties\": {\n        \"dtype\": \"number\",\n        \"std\": 1,\n        \"min\": 0,\n        \"max\": 8,\n        \"num_unique_values\": 8,\n        \"samples\": [\n          1,\n          5,\n          3\n        ],\n        \"semantic_type\": \"\",\n        \"description\": \"\"\n      }\n    },\n    {\n      \"column\": \"home_score_half_time\",\n      \"properties\": {\n        \"dtype\": \"number\",\n        \"std\": 0,\n        \"min\": 0,\n        \"max\": 4,\n        \"num_unique_values\": 5,\n        \"samples\": [\n          2,\n          4,\n          1\n        ],\n        \"semantic_type\": \"\",\n        \"description\": \"\"\n      }\n    },\n    {\n      \"column\": \"away_score_half_time\",\n      \"properties\": {\n        \"dtype\": \"number\",\n        \"std\": 0,\n        \"min\": 0,\n        \"max\": 5,\n        \"num_unique_values\": 6,\n        \"samples\": [\n          2,\n          0,\n          5\n        ],\n        \"semantic_type\": \"\",\n        \"description\": \"\"\n      }\n    },\n    {\n      \"column\": \"goal_diff\",\n      \"properties\": {\n        \"dtype\": \"number\",\n        \"std\": 1,\n        \"min\": 0,\n        \"max\": 8,\n        \"num_unique_values\": 8,\n        \"samples\": [\n          1,\n          8,\n          3\n        ],\n        \"semantic_type\": \"\",\n        \"description\": \"\"\n      }\n    },\n    {\n      \"column\": \"winner\",\n      \"properties\": {\n        \"dtype\": \"category\",\n        \"num_unique_values\": 21,\n        \"samples\": [\n          \"Man City\",\n          \"Luton Town\",\n          \"Wolverhampton\"\n        ],\n        \"semantic_type\": \"\",\n        \"description\": \"\"\n      }\n    },\n    {\n      \"column\": \"defeat\",\n      \"properties\": {\n        \"dtype\": \"category\",\n        \"num_unique_values\": 21,\n        \"samples\": [\n          \"Burnley\",\n          \"Man City\",\n          \"West Ham\"\n        ],\n        \"semantic_type\": \"\",\n        \"description\": \"\"\n      }\n    },\n    {\n      \"column\": \"ref\",\n      \"properties\": {\n        \"dtype\": \"category\",\n        \"num_unique_values\": 28,\n        \"samples\": [\n          \"Simon Hooper\",\n          \"Lewis Smith\",\n          \"Anthony Taylor\"\n        ],\n        \"semantic_type\": \"\",\n        \"description\": \"\"\n      }\n    }\n  ]\n}"
            }
          },
          "metadata": {},
          "execution_count": 3
        }
      ]
    },
    {
      "cell_type": "markdown",
      "source": [
        "# Data Analysis and Preprocessing"
      ],
      "metadata": {
        "id": "X04D7FaaSJtv"
      }
    },
    {
      "cell_type": "code",
      "source": [
        "# Checking for null values\n",
        "print(df.isnull().sum())\n",
        "\n",
        "# Basic statistics\n",
        "print(df.describe())"
      ],
      "metadata": {
        "colab": {
          "base_uri": "https://localhost:8080/"
        },
        "id": "n-YihuKXSfms",
        "outputId": "c5374394-5dcc-4a63-c3b3-18b085a227d5"
      },
      "execution_count": null,
      "outputs": [
        {
          "output_type": "stream",
          "name": "stdout",
          "text": [
            "date                    0\n",
            "matchday                0\n",
            "home_team               0\n",
            "away_team               0\n",
            "home_score_full_time    0\n",
            "away_score_full_time    0\n",
            "home_score_half_time    0\n",
            "away_score_half_time    0\n",
            "goal_diff               0\n",
            "winner                  0\n",
            "defeat                  0\n",
            "ref                     0\n",
            "dtype: int64\n",
            "         matchday  home_score_full_time  away_score_full_time  \\\n",
            "count  380.000000            380.000000            380.000000   \n",
            "mean    19.500000              1.800000              1.478947   \n",
            "std     10.980313              1.365616              1.277811   \n",
            "min      1.000000              0.000000              0.000000   \n",
            "25%     10.000000              1.000000              1.000000   \n",
            "50%     19.500000              2.000000              1.000000   \n",
            "75%     29.000000              3.000000              2.000000   \n",
            "max     38.000000              6.000000              8.000000   \n",
            "\n",
            "       home_score_half_time  away_score_half_time   goal_diff  \n",
            "count            380.000000            380.000000  380.000000  \n",
            "mean               0.734211              0.626316    1.584211  \n",
            "std                0.831687              0.823367    1.355440  \n",
            "min                0.000000              0.000000    0.000000  \n",
            "25%                0.000000              0.000000    1.000000  \n",
            "50%                1.000000              0.000000    1.000000  \n",
            "75%                1.000000              1.000000    2.000000  \n",
            "max                4.000000              5.000000    8.000000  \n"
          ]
        }
      ]
    },
    {
      "cell_type": "markdown",
      "source": [
        "# Total Wins by Team"
      ],
      "metadata": {
        "id": "r5f79-oy8TPf"
      }
    },
    {
      "cell_type": "code",
      "source": [
        "import seaborn as sns\n",
        "import matplotlib.pyplot as plt\n",
        "\n",
        "# Count wins per team excluding draws\n",
        "wins = df[df[\"winner\"] != \"DRAW\"][\"winner\"].value_counts()\n",
        "\n",
        "plt.figure(figsize=(12, 6))\n",
        "sns.barplot(x=wins.index, y=wins.values, palette=\"viridis\")\n",
        "plt.xticks(rotation=90)\n",
        "plt.title(\"Total Wins by Team\")\n",
        "plt.ylabel(\"Number of Wins\")\n",
        "plt.xlabel(\"Team\")\n",
        "plt.tight_layout()\n",
        "plt.show()\n"
      ],
      "metadata": {
        "colab": {
          "base_uri": "https://localhost:8080/",
          "height": 673
        },
        "id": "YXpQTEj48XFw",
        "outputId": "c3221d48-f07e-40a4-8fb1-a8b4da75a323"
      },
      "execution_count": null,
      "outputs": [
        {
          "output_type": "stream",
          "name": "stderr",
          "text": [
            "<ipython-input-5-110784b28c59>:8: FutureWarning: \n",
            "\n",
            "Passing `palette` without assigning `hue` is deprecated and will be removed in v0.14.0. Assign the `x` variable to `hue` and set `legend=False` for the same effect.\n",
            "\n",
            "  sns.barplot(x=wins.index, y=wins.values, palette=\"viridis\")\n"
          ]
        },
        {
          "output_type": "display_data",
          "data": {
            "text/plain": [
              "<Figure size 1200x600 with 1 Axes>"
            ],
            "image/png": "[encoded data removed]"
          },
          "metadata": {}
        }
      ]
    },
    {
      "cell_type": "markdown",
      "source": [
        "## COLUMN LIST"
      ],
      "metadata": {
        "id": "yep5UUDaSvvi"
      }
    },
    {
      "cell_type": "code",
      "source": [
        "print(df.columns.tolist())"
      ],
      "metadata": {
        "colab": {
          "base_uri": "https://localhost:8080/"
        },
        "id": "OjaIdEWITEEF",
        "outputId": "f97f47e8-c3fb-41ed-a2fe-441a3f6d267b"
      },
      "execution_count": null,
      "outputs": [
        {
          "output_type": "stream",
          "name": "stdout",
          "text": [
            "['date', 'matchday', 'home_team', 'away_team', 'home_score_full_time', 'away_score_full_time', 'home_score_half_time', 'away_score_half_time', 'goal_diff', 'winner', 'defeat', 'ref']\n"
          ]
        }
      ]
    },
    {
      "cell_type": "markdown",
      "source": [
        "# MODEL BUILDING"
      ],
      "metadata": {
        "id": "wdmvyu_yTULb"
      }
    },
    {
      "cell_type": "code",
      "source": [
        "import pandas as pd\n",
        "from sklearn.model_selection import train_test_split\n",
        "from sklearn.preprocessing import LabelEncoder\n",
        "from sklearn.ensemble import RandomForestRegressor\n",
        "from sklearn.metrics import mean_squared_error\n",
        "\n",
        "# Load data\n",
        "df = pd.read_csv('premier_league.csv')\n",
        "\n",
        "# Label Encoding\n",
        "le = LabelEncoder()\n",
        "df['home_team_encoded'] = le.fit_transform(df['home_team'])\n",
        "df['away_team_encoded'] = le.transform(df['away_team'])\n",
        "\n",
        "# Features and Target\n",
        "X = df[['matchday', 'home_team_encoded', 'away_team_encoded']]\n",
        "y = df['home_score_full_time']\n",
        "\n",
        "# Train-test split\n",
        "X_train, X_test, y_train, y_test = train_test_split(X, y, test_size=0.2, random_state=42)\n",
        "\n",
        "# Model\n",
        "model = RandomForestRegressor()\n",
        "model.fit(X_train, y_train)\n",
        "\n",
        "# Predictions\n",
        "predictions = model.predict(X_test)\n",
        "\n",
        "# Evaluation\n",
        "print(\"Mean Squared Error:\", mean_squared_error(y_test, predictions))\n"
      ],
      "metadata": {
        "colab": {
          "base_uri": "https://localhost:8080/"
        },
        "id": "tWDmHKuWTZJX",
        "outputId": "34b421dc-7fc7-45ac-e880-1d22859ff559"
      },
      "execution_count": null,
      "outputs": [
        {
          "output_type": "stream",
          "name": "stdout",
          "text": [
            "Mean Squared Error: 2.1477184210526317\n"
          ]
        }
      ]
    },
    {
      "cell_type": "markdown",
      "source": [
        "#  Predict Both Home & Away Scores Togather"
      ],
      "metadata": {
        "id": "l5Sq5DIVTi3K"
      }
    },
    {
      "cell_type": "code",
      "source": [
        "import pandas as pd\n",
        "from sklearn.model_selection import train_test_split\n",
        "from sklearn.preprocessing import LabelEncoder\n",
        "from sklearn.ensemble import RandomForestRegressor\n",
        "from sklearn.multioutput import MultiOutputRegressor\n",
        "from sklearn.metrics import mean_squared_error\n",
        "\n",
        "# Load data\n",
        "df = pd.read_csv('premier_league.csv')\n",
        "\n",
        "# Label Encoding\n",
        "le = LabelEncoder()\n",
        "df['home_team_encoded'] = le.fit_transform(df['home_team'])\n",
        "df['away_team_encoded'] = le.transform(df['away_team'])  # only transform\n",
        "\n",
        "# Features and Targets\n",
        "X = df[['matchday', 'home_team_encoded', 'away_team_encoded']]\n",
        "y = df[['home_score_full_time', 'away_score_full_time']]\n",
        "\n",
        "# Train-test split\n",
        "X_train, X_test, y_train, y_test = train_test_split(X, y, test_size=0.2, random_state=42)\n",
        "\n",
        "# Train multi-output model\n",
        "multi_model = MultiOutputRegressor(RandomForestRegressor())\n",
        "multi_model.fit(X_train, y_train)\n",
        "\n",
        "# Predictions\n",
        "multi_preds = multi_model.predict(X_test)\n",
        "\n",
        "# Evaluation\n",
        "print(\"Home Score MSE:\", mean_squared_error(y_test['home_score_full_time'], multi_preds[:, 0]))\n",
        "print(\"Away Score MSE:\", mean_squared_error(y_test['away_score_full_time'], multi_preds[:, 1]))\n"
      ],
      "metadata": {
        "colab": {
          "base_uri": "https://localhost:8080/"
        },
        "id": "T16XMucrTlC3",
        "outputId": "5ce5dd5c-da8f-420d-e051-ca1e7cad399a"
      },
      "execution_count": null,
      "outputs": [
        {
          "output_type": "stream",
          "name": "stdout",
          "text": [
            "Home Score MSE: 2.138064473684211\n",
            "Away Score MSE: 1.499975\n"
          ]
        }
      ]
    },
    {
      "cell_type": "markdown",
      "source": [
        "# AVAILABLE TEAMS"
      ],
      "metadata": {
        "id": "be5YucIKWmzy"
      }
    },
    {
      "cell_type": "code",
      "source": [
        "print(\"Available teams in the encoder:\")\n",
        "print(le.classes_)"
      ],
      "metadata": {
        "colab": {
          "base_uri": "https://localhost:8080/"
        },
        "id": "7NDGxPKkWqiN",
        "outputId": "62ebd847-1dd0-449c-c890-f8980017de4f"
      },
      "execution_count": null,
      "outputs": [
        {
          "output_type": "stream",
          "name": "stdout",
          "text": [
            "Available teams in the encoder:\n",
            "['Arsenal' 'Aston Villa' 'Bournemouth' 'Brentford' 'Brighton Hove'\n",
            " 'Burnley' 'Chelsea' 'Crystal Palace' 'Everton' 'Fulham' 'Liverpool'\n",
            " 'Luton Town' 'Man City' 'Man United' 'Newcastle' 'Nottingham'\n",
            " 'Sheffield Utd' 'Tottenham' 'West Ham' 'Wolverhampton']\n"
          ]
        }
      ]
    },
    {
      "cell_type": "markdown",
      "source": [
        "# FUTURE MATCH PREDICTIONS"
      ],
      "metadata": {
        "id": "IUaff8f-UJfB"
      }
    },
    {
      "cell_type": "code",
      "source": [
        "def predict_future_match(home_team_name, away_team_name, matchday):\n",
        "    try:\n",
        "        home_encoded = le.transform([home_team_name])[0]\n",
        "        away_encoded = le.transform([away_team_name])[0]\n",
        "    except:\n",
        "        print(f\"Error: Team name not found. Please check spelling.\")\n",
        "        return None, None\n",
        "\n",
        "    # Create a DataFrame for proper feature names\n",
        "    input_features = pd.DataFrame({\n",
        "        'matchday': [matchday],\n",
        "        'home_team_encoded': [home_encoded],\n",
        "        'away_team_encoded': [away_encoded]\n",
        "    })\n",
        "\n",
        "    # Predict\n",
        "    predicted_scores = multi_model.predict(input_features)\n",
        "\n",
        "    home_score = round(predicted_scores[0][0])\n",
        "    away_score = round(predicted_scores[0][1])\n",
        "\n",
        "    print(f\"Predicted Scoreline for Matchday {matchday}:\")\n",
        "    print(f\"{home_team_name} {home_score} - {away_score} {away_team_name}\")\n",
        "\n",
        "    # Predict Winner\n",
        "    if home_score > away_score:\n",
        "        print(f\"Predicted Winner: {home_team_name}\")\n",
        "    elif away_score > home_score:\n",
        "        print(f\"Predicted Winner: {away_team_name}\")\n",
        "    else:\n",
        "        print(\"Predicted Result: Draw\")\n",
        "\n",
        "    return home_score, away_score\n",
        "\n",
        "# Test the function with sample teams\n",
        "home_score, away_score = predict_future_match(\"Liverpool\", \"Tottenham\", 1)"
      ],
      "metadata": {
        "colab": {
          "base_uri": "https://localhost:8080/"
        },
        "id": "XR8L71oAUgm1",
        "outputId": "3116ae80-a45d-4da1-e6ef-3801725b3268"
      },
      "execution_count": null,
      "outputs": [
        {
          "output_type": "stream",
          "name": "stdout",
          "text": [
            "Predicted Scoreline for Matchday 1:\n",
            "Liverpool 2 - 2 Tottenham\n",
            "Predicted Result: Draw\n"
          ]
        }
      ]
    },
    {
      "cell_type": "code",
      "source": [
        "import joblib\n",
        "\n",
        "# Save the correct multi-output model\n",
        "joblib.dump(multi_model, 'football_model.pkl')\n",
        "\n",
        "# Save label encoder\n",
        "joblib.dump(le, 'label_encoder.pkl')\n"
      ],
      "metadata": {
        "colab": {
          "base_uri": "https://localhost:8080/"
        },
        "id": "XYJ4u-8RG3oU",
        "outputId": "48c3ed5a-2910-406d-8c91-49754d41e5d3"
      },
      "execution_count": null,
      "outputs": [
        {
          "output_type": "execute_result",
          "data": {
            "text/plain": [
              "['label_encoder.pkl']"
            ]
          },
          "metadata": {},
          "execution_count": 14
        }
      ]
    }
  ]
}